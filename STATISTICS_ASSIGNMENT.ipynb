{
 "cells": [
  {
   "cell_type": "code",
   "execution_count": 1,
   "id": "4cf81d50-905c-4bf5-a598-9ddbe53f6cc0",
   "metadata": {},
   "outputs": [
    {
     "data": {
      "text/plain": [
       "array([127,  91, 102, 121, 106, 102,  92, 104, 117, 107, 117,  95, 128,\n",
       "       104, 101, 103, 123, 118,  96,  93, 108, 121, 107, 124, 110,  91,\n",
       "       111, 100, 123, 121,  96, 128, 127, 126,  95, 122,  94, 120, 101,\n",
       "        98,  99,  99, 126,  94, 124,  95, 109, 111, 129,  99, 123,  98,\n",
       "       119, 112,  93,  97, 115, 110, 129,  92,  99, 127, 114,  94, 126,\n",
       "       129, 107, 117, 110, 125, 106, 128, 112, 127, 111,  99, 110,  96,\n",
       "       110,  98,  99, 102, 127, 123, 107, 111, 125, 100,  90, 100, 127,\n",
       "       120,  91, 104, 114,  92, 109, 104, 115, 119])"
      ]
     },
     "execution_count": 1,
     "metadata": {},
     "output_type": "execute_result"
    }
   ],
   "source": [
    "import numpy as np\n",
    "#1# Generate a list of 100 integers containing values between 90 to 130 and store it in the variable `int_list`.\n",
    "# ater generating the list, find the >ollowing\n",
    "int_list=np.random.randint(90,130,100)\n",
    "int_list"
   ]
  },
  {
   "cell_type": "code",
   "execution_count": 2,
   "id": "68bbeeb3-c878-467b-9145-232828e92b39",
   "metadata": {},
   "outputs": [
    {
     "data": {
      "text/plain": [
       "109.67"
      ]
     },
     "execution_count": 2,
     "metadata": {},
     "output_type": "execute_result"
    }
   ],
   "source": [
    "#i# Write a Python function to calculate the mean of a given list of numbers.\n",
    "#Create a function to find the median of a list of numbers\n",
    "np.mean(int_list)\n"
   ]
  },
  {
   "cell_type": "code",
   "execution_count": 3,
   "id": "db264d00-c31a-4018-a831-a66c76231424",
   "metadata": {},
   "outputs": [
    {
     "data": {
      "text/plain": [
       "109.5"
      ]
     },
     "execution_count": 3,
     "metadata": {},
     "output_type": "execute_result"
    }
   ],
   "source": [
    "#b#\n",
    "np.median(int_list)"
   ]
  },
  {
   "cell_type": "code",
   "execution_count": 4,
   "id": "98772ab7-6dd4-4935-89c0-67ee1eb87c95",
   "metadata": {},
   "outputs": [
    {
     "name": "stdout",
     "output_type": "stream",
     "text": [
      "127\n"
     ]
    }
   ],
   "source": [
    "#ii# Develop a program to compute the mode of a list of integers.\n",
    "from statistics import mode\n",
    "print(mode(int_list))"
   ]
  },
  {
   "cell_type": "code",
   "execution_count": 5,
   "id": "e86df77d-6cd0-48e2-8755-9fe59c6b8715",
   "metadata": {},
   "outputs": [
    {
     "data": {
      "text/plain": [
       "array([52, 71, 49, 31, 55, 71, 45, 73, 57, 50, 73, 56, 67, 75, 45, 65, 36,\n",
       "       54, 77, 78, 43, 74, 41, 75, 62, 33, 68, 79, 43, 31, 59, 61, 48, 60,\n",
       "       43, 52, 62, 74, 71, 46, 60, 32, 33, 55, 60, 40, 40, 66, 59, 49, 41,\n",
       "       76, 52, 75, 36, 57, 66, 61, 59, 54, 73, 57, 58, 37, 44, 34, 59, 62,\n",
       "       66, 79, 35, 66, 49, 55, 71, 43, 55, 75, 72, 44, 33, 56, 56, 58, 34,\n",
       "       41, 50, 33, 58, 51, 44, 34, 41, 54, 53, 59, 39, 65, 39, 73])"
      ]
     },
     "execution_count": 5,
     "metadata": {},
     "output_type": "execute_result"
    }
   ],
   "source": [
    "#iii# Implement a function to calculate the weighted mean of a list of\n",
    "# values and their corresponding weights\n",
    "corresponding_weight=np.random.randint(30,80,100)\n",
    "corresponding_weight"
   ]
  },
  {
   "cell_type": "code",
   "execution_count": 6,
   "id": "88678a60-5f4b-40e6-8578-2afd375de2db",
   "metadata": {},
   "outputs": [
    {
     "data": {
      "text/plain": [
       "109.67889071337348"
      ]
     },
     "execution_count": 6,
     "metadata": {},
     "output_type": "execute_result"
    }
   ],
   "source": [
    "weighted_avg=np.average (int_list,weights=corresponding_weight)\n",
    "weighted_avg"
   ]
  },
  {
   "cell_type": "code",
   "execution_count": 7,
   "id": "fac9df41-cfad-4476-a6a1-5167cac06b0e",
   "metadata": {},
   "outputs": [
    {
     "data": {
      "text/plain": [
       "109.00662229336353"
      ]
     },
     "execution_count": 7,
     "metadata": {},
     "output_type": "execute_result"
    }
   ],
   "source": [
    "#iv#Write a Python function to find\n",
    "#the geometric mean of a list of positive numbers.\n",
    "import statistics\n",
    "statistics.geometric_mean(int_list)"
   ]
  },
  {
   "cell_type": "code",
   "execution_count": 8,
   "id": "533769f4-17e1-45f0-b037-343d729a8c8d",
   "metadata": {},
   "outputs": [
    {
     "data": {
      "text/plain": [
       "109.00662229336353"
      ]
     },
     "execution_count": 8,
     "metadata": {},
     "output_type": "execute_result"
    }
   ],
   "source": [
    "from scipy.stats import gmean\n",
    "gmean(int_list)"
   ]
  },
  {
   "cell_type": "code",
   "execution_count": 9,
   "id": "8036e556-fed9-4a8e-8d04-6c7146379915",
   "metadata": {},
   "outputs": [
    {
     "data": {
      "text/plain": [
       "108.3464789802545"
      ]
     },
     "execution_count": 9,
     "metadata": {},
     "output_type": "execute_result"
    }
   ],
   "source": [
    "#v#Create a program to calculate the harmonic mean of a list of values\n",
    "statistics.harmonic_mean(int_list)"
   ]
  },
  {
   "cell_type": "code",
   "execution_count": 10,
   "id": "05e79fb4-ac74-4496-9539-ca1b6335477e",
   "metadata": {},
   "outputs": [
    {
     "data": {
      "text/plain": [
       "109.67"
      ]
     },
     "execution_count": 10,
     "metadata": {},
     "output_type": "execute_result"
    }
   ],
   "source": [
    "#vi# Build a function to determine the midrange of a list of numbers (average of the minimum and maximum).\n",
    "max_value = max(int_list)\n",
    "min_value = min(int_list)\n",
    "avg_value = 0 if len(int_list) == 0 else sum(int_list)/len(int_list)\n",
    "avg_value"
   ]
  },
  {
   "cell_type": "code",
   "execution_count": 11,
   "id": "059fe811-0849-40a4-972b-049afe26299b",
   "metadata": {},
   "outputs": [
    {
     "data": {
      "text/plain": [
       "109.1"
      ]
     },
     "execution_count": 11,
     "metadata": {},
     "output_type": "execute_result"
    }
   ],
   "source": [
    "#vii#Implement a Python program to find the trimmed mean of a list, excluding a certain percentage of outliers\n",
    "from scipy import stats\n",
    "stats.trim_mean(int_list, 0.25)"
   ]
  },
  {
   "cell_type": "code",
   "execution_count": 12,
   "id": "d4ac0ef2-87e1-41ee-8260-53d57d8eb30c",
   "metadata": {},
   "outputs": [
    {
     "data": {
      "text/plain": [
       "array([200.        , 200.2004008 , 200.4008016 , 200.6012024 ,\n",
       "       200.80160321, 201.00200401, 201.20240481, 201.40280561,\n",
       "       201.60320641, 201.80360721, 202.00400802, 202.20440882,\n",
       "       202.40480962, 202.60521042, 202.80561122, 203.00601202,\n",
       "       203.20641283, 203.40681363, 203.60721443, 203.80761523,\n",
       "       204.00801603, 204.20841683, 204.40881764, 204.60921844,\n",
       "       204.80961924, 205.01002004, 205.21042084, 205.41082164,\n",
       "       205.61122244, 205.81162325, 206.01202405, 206.21242485,\n",
       "       206.41282565, 206.61322645, 206.81362725, 207.01402806,\n",
       "       207.21442886, 207.41482966, 207.61523046, 207.81563126,\n",
       "       208.01603206, 208.21643287, 208.41683367, 208.61723447,\n",
       "       208.81763527, 209.01803607, 209.21843687, 209.41883768,\n",
       "       209.61923848, 209.81963928, 210.02004008, 210.22044088,\n",
       "       210.42084168, 210.62124248, 210.82164329, 211.02204409,\n",
       "       211.22244489, 211.42284569, 211.62324649, 211.82364729,\n",
       "       212.0240481 , 212.2244489 , 212.4248497 , 212.6252505 ,\n",
       "       212.8256513 , 213.0260521 , 213.22645291, 213.42685371,\n",
       "       213.62725451, 213.82765531, 214.02805611, 214.22845691,\n",
       "       214.42885772, 214.62925852, 214.82965932, 215.03006012,\n",
       "       215.23046092, 215.43086172, 215.63126253, 215.83166333,\n",
       "       216.03206413, 216.23246493, 216.43286573, 216.63326653,\n",
       "       216.83366733, 217.03406814, 217.23446894, 217.43486974,\n",
       "       217.63527054, 217.83567134, 218.03607214, 218.23647295,\n",
       "       218.43687375, 218.63727455, 218.83767535, 219.03807615,\n",
       "       219.23847695, 219.43887776, 219.63927856, 219.83967936,\n",
       "       220.04008016, 220.24048096, 220.44088176, 220.64128257,\n",
       "       220.84168337, 221.04208417, 221.24248497, 221.44288577,\n",
       "       221.64328657, 221.84368737, 222.04408818, 222.24448898,\n",
       "       222.44488978, 222.64529058, 222.84569138, 223.04609218,\n",
       "       223.24649299, 223.44689379, 223.64729459, 223.84769539,\n",
       "       224.04809619, 224.24849699, 224.4488978 , 224.6492986 ,\n",
       "       224.8496994 , 225.0501002 , 225.250501  , 225.4509018 ,\n",
       "       225.65130261, 225.85170341, 226.05210421, 226.25250501,\n",
       "       226.45290581, 226.65330661, 226.85370741, 227.05410822,\n",
       "       227.25450902, 227.45490982, 227.65531062, 227.85571142,\n",
       "       228.05611222, 228.25651303, 228.45691383, 228.65731463,\n",
       "       228.85771543, 229.05811623, 229.25851703, 229.45891784,\n",
       "       229.65931864, 229.85971944, 230.06012024, 230.26052104,\n",
       "       230.46092184, 230.66132265, 230.86172345, 231.06212425,\n",
       "       231.26252505, 231.46292585, 231.66332665, 231.86372745,\n",
       "       232.06412826, 232.26452906, 232.46492986, 232.66533066,\n",
       "       232.86573146, 233.06613226, 233.26653307, 233.46693387,\n",
       "       233.66733467, 233.86773547, 234.06813627, 234.26853707,\n",
       "       234.46893788, 234.66933868, 234.86973948, 235.07014028,\n",
       "       235.27054108, 235.47094188, 235.67134269, 235.87174349,\n",
       "       236.07214429, 236.27254509, 236.47294589, 236.67334669,\n",
       "       236.87374749, 237.0741483 , 237.2745491 , 237.4749499 ,\n",
       "       237.6753507 , 237.8757515 , 238.0761523 , 238.27655311,\n",
       "       238.47695391, 238.67735471, 238.87775551, 239.07815631,\n",
       "       239.27855711, 239.47895792, 239.67935872, 239.87975952,\n",
       "       240.08016032, 240.28056112, 240.48096192, 240.68136273,\n",
       "       240.88176353, 241.08216433, 241.28256513, 241.48296593,\n",
       "       241.68336673, 241.88376754, 242.08416834, 242.28456914,\n",
       "       242.48496994, 242.68537074, 242.88577154, 243.08617234,\n",
       "       243.28657315, 243.48697395, 243.68737475, 243.88777555,\n",
       "       244.08817635, 244.28857715, 244.48897796, 244.68937876,\n",
       "       244.88977956, 245.09018036, 245.29058116, 245.49098196,\n",
       "       245.69138277, 245.89178357, 246.09218437, 246.29258517,\n",
       "       246.49298597, 246.69338677, 246.89378758, 247.09418838,\n",
       "       247.29458918, 247.49498998, 247.69539078, 247.89579158,\n",
       "       248.09619238, 248.29659319, 248.49699399, 248.69739479,\n",
       "       248.89779559, 249.09819639, 249.29859719, 249.498998  ,\n",
       "       249.6993988 , 249.8997996 , 250.1002004 , 250.3006012 ,\n",
       "       250.501002  , 250.70140281, 250.90180361, 251.10220441,\n",
       "       251.30260521, 251.50300601, 251.70340681, 251.90380762,\n",
       "       252.10420842, 252.30460922, 252.50501002, 252.70541082,\n",
       "       252.90581162, 253.10621242, 253.30661323, 253.50701403,\n",
       "       253.70741483, 253.90781563, 254.10821643, 254.30861723,\n",
       "       254.50901804, 254.70941884, 254.90981964, 255.11022044,\n",
       "       255.31062124, 255.51102204, 255.71142285, 255.91182365,\n",
       "       256.11222445, 256.31262525, 256.51302605, 256.71342685,\n",
       "       256.91382766, 257.11422846, 257.31462926, 257.51503006,\n",
       "       257.71543086, 257.91583166, 258.11623246, 258.31663327,\n",
       "       258.51703407, 258.71743487, 258.91783567, 259.11823647,\n",
       "       259.31863727, 259.51903808, 259.71943888, 259.91983968,\n",
       "       260.12024048, 260.32064128, 260.52104208, 260.72144289,\n",
       "       260.92184369, 261.12224449, 261.32264529, 261.52304609,\n",
       "       261.72344689, 261.9238477 , 262.1242485 , 262.3246493 ,\n",
       "       262.5250501 , 262.7254509 , 262.9258517 , 263.12625251,\n",
       "       263.32665331, 263.52705411, 263.72745491, 263.92785571,\n",
       "       264.12825651, 264.32865731, 264.52905812, 264.72945892,\n",
       "       264.92985972, 265.13026052, 265.33066132, 265.53106212,\n",
       "       265.73146293, 265.93186373, 266.13226453, 266.33266533,\n",
       "       266.53306613, 266.73346693, 266.93386774, 267.13426854,\n",
       "       267.33466934, 267.53507014, 267.73547094, 267.93587174,\n",
       "       268.13627255, 268.33667335, 268.53707415, 268.73747495,\n",
       "       268.93787575, 269.13827655, 269.33867735, 269.53907816,\n",
       "       269.73947896, 269.93987976, 270.14028056, 270.34068136,\n",
       "       270.54108216, 270.74148297, 270.94188377, 271.14228457,\n",
       "       271.34268537, 271.54308617, 271.74348697, 271.94388778,\n",
       "       272.14428858, 272.34468938, 272.54509018, 272.74549098,\n",
       "       272.94589178, 273.14629259, 273.34669339, 273.54709419,\n",
       "       273.74749499, 273.94789579, 274.14829659, 274.34869739,\n",
       "       274.5490982 , 274.749499  , 274.9498998 , 275.1503006 ,\n",
       "       275.3507014 , 275.5511022 , 275.75150301, 275.95190381,\n",
       "       276.15230461, 276.35270541, 276.55310621, 276.75350701,\n",
       "       276.95390782, 277.15430862, 277.35470942, 277.55511022,\n",
       "       277.75551102, 277.95591182, 278.15631263, 278.35671343,\n",
       "       278.55711423, 278.75751503, 278.95791583, 279.15831663,\n",
       "       279.35871743, 279.55911824, 279.75951904, 279.95991984,\n",
       "       280.16032064, 280.36072144, 280.56112224, 280.76152305,\n",
       "       280.96192385, 281.16232465, 281.36272545, 281.56312625,\n",
       "       281.76352705, 281.96392786, 282.16432866, 282.36472946,\n",
       "       282.56513026, 282.76553106, 282.96593186, 283.16633267,\n",
       "       283.36673347, 283.56713427, 283.76753507, 283.96793587,\n",
       "       284.16833667, 284.36873747, 284.56913828, 284.76953908,\n",
       "       284.96993988, 285.17034068, 285.37074148, 285.57114228,\n",
       "       285.77154309, 285.97194389, 286.17234469, 286.37274549,\n",
       "       286.57314629, 286.77354709, 286.9739479 , 287.1743487 ,\n",
       "       287.3747495 , 287.5751503 , 287.7755511 , 287.9759519 ,\n",
       "       288.17635271, 288.37675351, 288.57715431, 288.77755511,\n",
       "       288.97795591, 289.17835671, 289.37875752, 289.57915832,\n",
       "       289.77955912, 289.97995992, 290.18036072, 290.38076152,\n",
       "       290.58116232, 290.78156313, 290.98196393, 291.18236473,\n",
       "       291.38276553, 291.58316633, 291.78356713, 291.98396794,\n",
       "       292.18436874, 292.38476954, 292.58517034, 292.78557114,\n",
       "       292.98597194, 293.18637275, 293.38677355, 293.58717435,\n",
       "       293.78757515, 293.98797595, 294.18837675, 294.38877756,\n",
       "       294.58917836, 294.78957916, 294.98997996, 295.19038076,\n",
       "       295.39078156, 295.59118236, 295.79158317, 295.99198397,\n",
       "       296.19238477, 296.39278557, 296.59318637, 296.79358717,\n",
       "       296.99398798, 297.19438878, 297.39478958, 297.59519038,\n",
       "       297.79559118, 297.99599198, 298.19639279, 298.39679359,\n",
       "       298.59719439, 298.79759519, 298.99799599, 299.19839679,\n",
       "       299.3987976 , 299.5991984 , 299.7995992 , 300.        ])"
      ]
     },
     "execution_count": 12,
     "metadata": {},
     "output_type": "execute_result"
    }
   ],
   "source": [
    "#2# Generate a list o 500 integers containing values between 200 to 300 and store it in the variable `int_list2`.\n",
    "# A>ter generating the list, >ind the >ollowing:\n",
    "int_list2=np.linspace(200,300,500)\n",
    "int_list2"
   ]
  },
  {
   "cell_type": "code",
   "execution_count": 14,
   "id": "09508774-52ef-43b0-8738-9fb82021c8e4",
   "metadata": {},
   "outputs": [
    {
     "data": {
      "text/plain": [
       "Text(0, 0.5, 'Probability Density')"
      ]
     },
     "execution_count": 14,
     "metadata": {},
     "output_type": "execute_result"
    },
    {
     "data": {
      "image/png": "[encoded data removed]",
      "text/plain": [
       "<Figure size 640x480 with 1 Axes>"
      ]
     },
     "metadata": {},
     "output_type": "display_data"
    }
   ],
   "source": [
    "#i# Compare the given list of visualization for the given data:\n",
    "#1#Frequency & Gaussian distribution\n",
    "import matplotlib.pyplot as plt\n",
    "def normal_dist(int_list2 , mean , sd):\n",
    "    prob_density = (np.pi*sd) * np.exp(-0.5*((int_list2-mean)/sd)**2)\n",
    "    return prob_density\n",
    "mean = np.mean(int_list2)\n",
    "sd = np.std(int_list2)\n",
    "pdf = normal_dist(int_list2,mean,sd)\n",
    "plt.plot(int_list2,pdf , color = 'red')\n",
    "plt.xlabel('frequency')\n",
    "plt.ylabel('Probability Density')"
   ]
  },
  {
   "cell_type": "code",
   "execution_count": 16,
   "id": "5bc4c676-ba24-4745-8de1-7217057de499",
   "metadata": {},
   "outputs": [
    {
     "name": "stderr",
     "output_type": "stream",
     "text": [
      "/tmp/ipykernel_77/4237788651.py:3: UserWarning: \n",
      "\n",
      "`distplot` is a deprecated function and will be removed in seaborn v0.14.0.\n",
      "\n",
      "Please adapt your code to use either `displot` (a figure-level function with\n",
      "similar flexibility) or `histplot` (an axes-level function for histograms).\n",
      "\n",
      "For a guide to updating your code to use the new functions, please see\n",
      "https://gist.github.com/mwaskom/de44147ed2974457ad6372750bbe5751\n",
      "\n",
      "  sns.distplot(int_list2,kde=True,color=\"b\")\n"
     ]
    },
    {
     "data": {
      "text/plain": [
       "<AxesSubplot: ylabel='Density'>"
      ]
     },
     "execution_count": 16,
     "metadata": {},
     "output_type": "execute_result"
    },
    {
     "data": {
      "image/png": "[encoded data removed]",
      "text/plain": [
       "<Figure size 640x480 with 1 Axes>"
      ]
     },
     "metadata": {},
     "output_type": "display_data"
    }
   ],
   "source": [
    "import seaborn as sns\n",
    "#2#Frequency smoothened KDE plot\n",
    "sns.distplot(int_list2,kde=True,color=\"b\")"
   ]
  },
  {
   "cell_type": "code",
   "execution_count": 17,
   "id": "6dc9301e-63e8-41da-a6e2-b66c1f783175",
   "metadata": {},
   "outputs": [
    {
     "data": {
      "text/plain": [
       "<AxesSubplot: ylabel='Density'>"
      ]
     },
     "execution_count": 17,
     "metadata": {},
     "output_type": "execute_result"
    },
    {
     "data": {
      "image/png": "[encoded data removed]",
      "text/plain": [
       "<Figure size 640x480 with 1 Axes>"
      ]
     },
     "metadata": {},
     "output_type": "display_data"
    }
   ],
   "source": [
    "#3#  Gaussian distribution & smoothened KDE plot\n",
    "sns.kdeplot(data=int_list2)"
   ]
  },
  {
   "cell_type": "code",
   "execution_count": 18,
   "id": "a6e64f7a-c13f-4ae6-aeba-5b03802f4a82",
   "metadata": {},
   "outputs": [
    {
     "data": {
      "text/plain": [
       "100.0"
      ]
     },
     "execution_count": 18,
     "metadata": {},
     "output_type": "execute_result"
    }
   ],
   "source": [
    "import pandas as pd\n",
    "#ii#Write a Python function to calculate the range of a given list of numbers.\n",
    "range=max(int_list2) - min(int_list2)\n",
    "range"
   ]
  },
  {
   "cell_type": "code",
   "execution_count": 19,
   "id": "8a09917c-390f-4c03-9fac-29486ef7381b",
   "metadata": {},
   "outputs": [
    {
     "data": {
      "text/plain": [
       "836.6733466933867"
      ]
     },
     "execution_count": 19,
     "metadata": {},
     "output_type": "execute_result"
    }
   ],
   "source": [
    "#III# Create a program to find the variance and standard deviation of a list of numbers.\n",
    "np.var(int_list2)"
   ]
  },
  {
   "cell_type": "code",
   "execution_count": 20,
   "id": "c331de18-154d-4e61-8041-c49301abca10",
   "metadata": {},
   "outputs": [
    {
     "data": {
      "text/plain": [
       "12.062383678195616"
      ]
     },
     "execution_count": 20,
     "metadata": {},
     "output_type": "execute_result"
    }
   ],
   "source": [
    "np.std(int_list)"
   ]
  },
  {
   "cell_type": "code",
   "execution_count": 21,
   "id": "640fc791-ad77-4e15-a4d0-18b708845512",
   "metadata": {},
   "outputs": [
    {
     "name": "stdout",
     "output_type": "stream",
     "text": [
      "225.0 275.0\n"
     ]
    }
   ],
   "source": [
    "#iv# Implement a function to compute the interquartile range (IQR) of a list of values.\n",
    "q1,q3=np.percentile(int_list2,[25,75])\n",
    "print(q1,q3)"
   ]
  },
  {
   "cell_type": "code",
   "execution_count": 22,
   "id": "0582a038-9e92-4e73-9b80-15005af5bfb0",
   "metadata": {},
   "outputs": [
    {
     "data": {
      "text/plain": [
       "50.0"
      ]
     },
     "execution_count": 22,
     "metadata": {},
     "output_type": "execute_result"
    }
   ],
   "source": [
    "iqr=q3-q1\n",
    "iqr"
   ]
  },
  {
   "cell_type": "code",
   "execution_count": 23,
   "id": "82c7146d-5cbb-4bc0-9c3c-e0eaf7bf8220",
   "metadata": {},
   "outputs": [
    {
     "data": {
      "text/plain": [
       "11.581710041522959"
      ]
     },
     "execution_count": 23,
     "metadata": {},
     "output_type": "execute_result"
    }
   ],
   "source": [
    "#v#Build a program to calculate the coefficient of variation for a dataset.\n",
    "import pandas as pd\n",
    "cv = lambda x: np.std(x, ddof=1) / np.mean(x) * 100\n",
    "cv(int_list2)"
   ]
  },
  {
   "cell_type": "code",
   "execution_count": 24,
   "id": "64ceb502-9bf7-4099-ad10-4a159fcb99c3",
   "metadata": {},
   "outputs": [
    {
     "data": {
      "text/plain": [
       "25.05010020040079"
      ]
     },
     "execution_count": 24,
     "metadata": {},
     "output_type": "execute_result"
    }
   ],
   "source": [
    "#vi#Write a Python function to find the mean absolute deviation (MAD) of a list of numbers.\n",
    "from scipy import stats\n",
    "stats.median_abs_deviation(int_list2)"
   ]
  },
  {
   "cell_type": "code",
   "execution_count": 25,
   "id": "f160e90c-210a-417f-8b2f-371f4cd34db3",
   "metadata": {},
   "outputs": [
    {
     "name": "stdout",
     "output_type": "stream",
     "text": [
      "Quartile 1 :  225.0\n",
      "Quartile 2 :  250.0\n",
      "Quartile 3 :  275.0\n"
     ]
    }
   ],
   "source": [
    "#vii#Create a program to calculate the quartile deviation of a list of values.\n",
    "Q1 = np.quantile(int_list2, 0.25)\n",
    "Q2 = np.quantile(int_list2, 0.50)\n",
    "Q3 = np.quantile(int_list2, 0.75)\n",
    "print(\"Quartile 1 : \", Q1)\n",
    "print(\"Quartile 2 : \", Q2)\n",
    "print(\"Quartile 3 : \", Q3)"
   ]
  },
  {
   "cell_type": "code",
   "execution_count": 26,
   "id": "66d30a9d-7b95-4872-aebf-c342ac434324",
   "metadata": {},
   "outputs": [
    {
     "name": "stdout",
     "output_type": "stream",
     "text": [
      "Computed Result :  25.0\n"
     ]
    }
   ],
   "source": [
    "def QuartileDeviation(a, b):\n",
    "    return (a - b)/2\n",
    "print(\"Computed Result : \",QuartileDeviation(Q3, Q1))"
   ]
  },
  {
   "cell_type": "code",
   "execution_count": 27,
   "id": "92cacd46-5197-40dc-aaf2-c91c74dbd6d3",
   "metadata": {},
   "outputs": [
    {
     "data": {
      "text/plain": [
       "499.3333333333333"
      ]
     },
     "execution_count": 27,
     "metadata": {},
     "output_type": "execute_result"
    }
   ],
   "source": [
    "#viii# Implement a function to find the range-based coefficient of dispersion for a dataset.\n",
    "range=max(int_list2) - min(int_list2)/max(int_list2) + min(int_list2)\n",
    "range\n"
   ]
  },
  {
   "cell_type": "code",
   "execution_count": 28,
   "id": "c180228d-0e90-48a6-a0ca-12f5db9357a6",
   "metadata": {},
   "outputs": [
    {
     "name": "stdout",
     "output_type": "stream",
     "text": [
      "[0.30444168 0.40072337 0.68299935 0.36586109 0.23189429 0.18751052\n",
      " 0.04777331 0.96047224 0.75438493 0.726155  ]\n"
     ]
    }
   ],
   "source": [
    "r = np.random.uniform(size=10)\n",
    "print(r)"
   ]
  },
  {
   "cell_type": "code",
   "execution_count": 29,
   "id": "faeff0ae-cbac-4fe8-9210-6eea13ef055d",
   "metadata": {},
   "outputs": [
    {
     "name": "stdout",
     "output_type": "stream",
     "text": [
      "[5 8 6 6 5 4 6 9 5 3]\n"
     ]
    }
   ],
   "source": [
    "from numpy import random\n",
    "x = random.binomial(n=10, p=0.5, size=10)\n",
    "\n",
    "x_mean=np.mean(x)\n",
    "x_var=np.var(x)\n",
    "print(x)"
   ]
  },
  {
   "cell_type": "code",
   "execution_count": 30,
   "id": "2259dcbe-feb0-4d67-80c2-eeab99431a19",
   "metadata": {},
   "outputs": [
    {
     "name": "stdout",
     "output_type": "stream",
     "text": [
      "5.7\n",
      "2.81\n"
     ]
    }
   ],
   "source": [
    "print(x_mean)\n",
    "print(x_var)"
   ]
  },
  {
   "cell_type": "code",
   "execution_count": 31,
   "id": "81bc2e92-618f-4662-9a79-ab24432243d5",
   "metadata": {},
   "outputs": [
    {
     "data": {
      "text/plain": [
       "array([ 1.46705912,  1.69367496, -1.27994191, -0.14476244, -2.7862398 ,\n",
       "       -0.90069285, -0.42279861,  1.49959709, -0.16325195, -0.76552556,\n",
       "        1.01201991,  1.39833217, -1.40712198, -0.88082754,  1.17883612,\n",
       "       -1.73394435, -0.35794456, -0.89788612, -0.49736721, -0.30357849,\n",
       "        1.61395723,  1.44845026, -0.60529678,  0.65564581,  2.33000566,\n",
       "        1.67770024,  0.01032574,  1.50148966,  0.54951786, -0.01756858,\n",
       "       -0.45577438, -0.37544698, -0.09653249, -0.23627143, -0.49496691,\n",
       "        0.26044848, -0.14908107,  2.75335976,  0.95174728,  1.12498677,\n",
       "        0.46725782, -0.48539175, -0.23001825, -0.87268233,  0.74288031,\n",
       "       -0.55357068,  0.4279534 ,  0.20622211, -0.55208892,  0.94956027,\n",
       "        1.01458209,  1.03830942, -1.07898472, -1.8076836 , -1.44107605,\n",
       "       -1.05761398, -1.76270278,  2.16341233,  0.4752964 , -0.93173159,\n",
       "       -0.51265468,  0.19998915, -0.33633463, -0.56947505,  0.46438969,\n",
       "       -0.15826027, -0.13795098, -0.79387281,  0.29259319, -0.28838996,\n",
       "        1.5444181 ,  0.11869715, -2.78522965,  0.12500577, -1.39122019,\n",
       "        0.24288673,  3.00716869, -0.57063426, -0.12065852,  2.14017727,\n",
       "        1.59547379,  2.33951291,  0.59237936,  0.03919071, -1.58029728,\n",
       "       -0.71165603,  1.45575684,  0.17118334,  0.96863616,  0.51483759,\n",
       "        0.01671559, -2.31938181,  0.05352821,  2.1035916 , -0.56031077,\n",
       "       -0.43064271,  0.40218859, -0.86302163,  2.20827684,  0.29596148])"
      ]
     },
     "execution_count": 31,
     "metadata": {},
     "output_type": "execute_result"
    }
   ],
   "source": [
    "#6# Write a Python script to generate random numbers 6rom a Gaussian (normal) distribution and compute\n",
    "#the mean, variance, and standard deviation o6 the samples.\n",
    "\n",
    "g_sistribution=np.random.normal(size=100)\n",
    "g_sistribution"
   ]
  },
  {
   "cell_type": "code",
   "execution_count": 32,
   "id": "1c235c71-67a4-490c-b433-b752fe271883",
   "metadata": {},
   "outputs": [
    {
     "name": "stderr",
     "output_type": "stream",
     "text": [
      "/tmp/ipykernel_77/3044426342.py:2: UserWarning: \n",
      "\n",
      "`distplot` is a deprecated function and will be removed in seaborn v0.14.0.\n",
      "\n",
      "Please adapt your code to use either `displot` (a figure-level function with\n",
      "similar flexibility) or `histplot` (an axes-level function for histograms).\n",
      "\n",
      "For a guide to updating your code to use the new functions, please see\n",
      "https://gist.github.com/mwaskom/de44147ed2974457ad6372750bbe5751\n",
      "\n",
      "  sns.distplot(g_sistribution,kde=True,color='r')\n"
     ]
    },
    {
     "data": {
      "text/plain": [
       "<AxesSubplot: ylabel='Density'>"
      ]
     },
     "execution_count": 32,
     "metadata": {},
     "output_type": "execute_result"
    },
    {
     "data": {
      "image/png": "[encoded data removed]",
      "text/plain": [
       "<Figure size 640x480 with 1 Axes>"
      ]
     },
     "metadata": {},
     "output_type": "display_data"
    }
   ],
   "source": [
    "import seaborn as sns\n",
    "sns.distplot(g_sistribution,kde=True,color='r')"
   ]
  },
  {
   "cell_type": "code",
   "execution_count": 33,
   "id": "a45beac2-fa1d-42b3-920a-e56435865d1c",
   "metadata": {},
   "outputs": [
    {
     "data": {
      "text/plain": [
       "0.11628829147277657"
      ]
     },
     "execution_count": 33,
     "metadata": {},
     "output_type": "execute_result"
    }
   ],
   "source": [
    "np.mean(g_sistribution)"
   ]
  },
  {
   "cell_type": "code",
   "execution_count": 34,
   "id": "364dde3a-cf97-43e6-aa05-c70f81eccae0",
   "metadata": {},
   "outputs": [
    {
     "data": {
      "text/plain": [
       "1.1668673029123342"
      ]
     },
     "execution_count": 34,
     "metadata": {},
     "output_type": "execute_result"
    }
   ],
   "source": [
    "np.std(g_sistribution)"
   ]
  },
  {
   "cell_type": "code",
   "execution_count": 35,
   "id": "097ecc2f-7031-44f5-96b9-3dffa061c009",
   "metadata": {},
   "outputs": [
    {
     "data": {
      "text/plain": [
       "1.1668673029123342"
      ]
     },
     "execution_count": 35,
     "metadata": {},
     "output_type": "execute_result"
    }
   ],
   "source": [
    "np.std(g_sistribution)"
   ]
  },
  {
   "cell_type": "code",
   "execution_count": 36,
   "id": "b0a49090-01cc-44bd-bf56-7b79d09dd016",
   "metadata": {},
   "outputs": [
    {
     "data": {
      "text/html": [
       "<div>\n",
       "<style scoped>\n",
       "    .dataframe tbody tr th:only-of-type {\n",
       "        vertical-align: middle;\n",
       "    }\n",
       "\n",
       "    .dataframe tbody tr th {\n",
       "        vertical-align: top;\n",
       "    }\n",
       "\n",
       "    .dataframe thead th {\n",
       "        text-align: right;\n",
       "    }\n",
       "</style>\n",
       "<table border=\"1\" class=\"dataframe\">\n",
       "  <thead>\n",
       "    <tr style=\"text-align: right;\">\n",
       "      <th></th>\n",
       "      <th>total_bill</th>\n",
       "      <th>tip</th>\n",
       "      <th>sex</th>\n",
       "      <th>smoker</th>\n",
       "      <th>day</th>\n",
       "      <th>time</th>\n",
       "      <th>size</th>\n",
       "    </tr>\n",
       "  </thead>\n",
       "  <tbody>\n",
       "    <tr>\n",
       "      <th>0</th>\n",
       "      <td>16.99</td>\n",
       "      <td>1.01</td>\n",
       "      <td>Female</td>\n",
       "      <td>No</td>\n",
       "      <td>Sun</td>\n",
       "      <td>Dinner</td>\n",
       "      <td>2</td>\n",
       "    </tr>\n",
       "    <tr>\n",
       "      <th>1</th>\n",
       "      <td>10.34</td>\n",
       "      <td>1.66</td>\n",
       "      <td>Male</td>\n",
       "      <td>No</td>\n",
       "      <td>Sun</td>\n",
       "      <td>Dinner</td>\n",
       "      <td>3</td>\n",
       "    </tr>\n",
       "    <tr>\n",
       "      <th>2</th>\n",
       "      <td>21.01</td>\n",
       "      <td>3.50</td>\n",
       "      <td>Male</td>\n",
       "      <td>No</td>\n",
       "      <td>Sun</td>\n",
       "      <td>Dinner</td>\n",
       "      <td>3</td>\n",
       "    </tr>\n",
       "    <tr>\n",
       "      <th>3</th>\n",
       "      <td>23.68</td>\n",
       "      <td>3.31</td>\n",
       "      <td>Male</td>\n",
       "      <td>No</td>\n",
       "      <td>Sun</td>\n",
       "      <td>Dinner</td>\n",
       "      <td>2</td>\n",
       "    </tr>\n",
       "    <tr>\n",
       "      <th>4</th>\n",
       "      <td>24.59</td>\n",
       "      <td>3.61</td>\n",
       "      <td>Female</td>\n",
       "      <td>No</td>\n",
       "      <td>Sun</td>\n",
       "      <td>Dinner</td>\n",
       "      <td>4</td>\n",
       "    </tr>\n",
       "    <tr>\n",
       "      <th>...</th>\n",
       "      <td>...</td>\n",
       "      <td>...</td>\n",
       "      <td>...</td>\n",
       "      <td>...</td>\n",
       "      <td>...</td>\n",
       "      <td>...</td>\n",
       "      <td>...</td>\n",
       "    </tr>\n",
       "    <tr>\n",
       "      <th>239</th>\n",
       "      <td>29.03</td>\n",
       "      <td>5.92</td>\n",
       "      <td>Male</td>\n",
       "      <td>No</td>\n",
       "      <td>Sat</td>\n",
       "      <td>Dinner</td>\n",
       "      <td>3</td>\n",
       "    </tr>\n",
       "    <tr>\n",
       "      <th>240</th>\n",
       "      <td>27.18</td>\n",
       "      <td>2.00</td>\n",
       "      <td>Female</td>\n",
       "      <td>Yes</td>\n",
       "      <td>Sat</td>\n",
       "      <td>Dinner</td>\n",
       "      <td>2</td>\n",
       "    </tr>\n",
       "    <tr>\n",
       "      <th>241</th>\n",
       "      <td>22.67</td>\n",
       "      <td>2.00</td>\n",
       "      <td>Male</td>\n",
       "      <td>Yes</td>\n",
       "      <td>Sat</td>\n",
       "      <td>Dinner</td>\n",
       "      <td>2</td>\n",
       "    </tr>\n",
       "    <tr>\n",
       "      <th>242</th>\n",
       "      <td>17.82</td>\n",
       "      <td>1.75</td>\n",
       "      <td>Male</td>\n",
       "      <td>No</td>\n",
       "      <td>Sat</td>\n",
       "      <td>Dinner</td>\n",
       "      <td>2</td>\n",
       "    </tr>\n",
       "    <tr>\n",
       "      <th>243</th>\n",
       "      <td>18.78</td>\n",
       "      <td>3.00</td>\n",
       "      <td>Female</td>\n",
       "      <td>No</td>\n",
       "      <td>Thur</td>\n",
       "      <td>Dinner</td>\n",
       "      <td>2</td>\n",
       "    </tr>\n",
       "  </tbody>\n",
       "</table>\n",
       "<p>244 rows × 7 columns</p>\n",
       "</div>"
      ],
      "text/plain": [
       "     total_bill   tip     sex smoker   day    time  size\n",
       "0         16.99  1.01  Female     No   Sun  Dinner     2\n",
       "1         10.34  1.66    Male     No   Sun  Dinner     3\n",
       "2         21.01  3.50    Male     No   Sun  Dinner     3\n",
       "3         23.68  3.31    Male     No   Sun  Dinner     2\n",
       "4         24.59  3.61  Female     No   Sun  Dinner     4\n",
       "..          ...   ...     ...    ...   ...     ...   ...\n",
       "239       29.03  5.92    Male     No   Sat  Dinner     3\n",
       "240       27.18  2.00  Female    Yes   Sat  Dinner     2\n",
       "241       22.67  2.00    Male    Yes   Sat  Dinner     2\n",
       "242       17.82  1.75    Male     No   Sat  Dinner     2\n",
       "243       18.78  3.00  Female     No  Thur  Dinner     2\n",
       "\n",
       "[244 rows x 7 columns]"
      ]
     },
     "execution_count": 36,
     "metadata": {},
     "output_type": "execute_result"
    }
   ],
   "source": [
    "#7#se seaborn librar to load tips dataset. Find the 6ollowing 6rom the dataset 6or the columns total_bill and tip`:\n",
    "import seaborn as sns\n",
    "df=sns.load_dataset(\"tips\")\n",
    "df"
   ]
  },
  {
   "cell_type": "code",
   "execution_count": 37,
   "id": "c07b5059-3fe8-4aae-98cc-c8641aade407",
   "metadata": {},
   "outputs": [
    {
     "data": {
      "text/html": [
       "<div>\n",
       "<style scoped>\n",
       "    .dataframe tbody tr th:only-of-type {\n",
       "        vertical-align: middle;\n",
       "    }\n",
       "\n",
       "    .dataframe tbody tr th {\n",
       "        vertical-align: top;\n",
       "    }\n",
       "\n",
       "    .dataframe thead th {\n",
       "        text-align: right;\n",
       "    }\n",
       "</style>\n",
       "<table border=\"1\" class=\"dataframe\">\n",
       "  <thead>\n",
       "    <tr style=\"text-align: right;\">\n",
       "      <th></th>\n",
       "      <th>total_bill</th>\n",
       "      <th>tip</th>\n",
       "    </tr>\n",
       "  </thead>\n",
       "  <tbody>\n",
       "    <tr>\n",
       "      <th>0</th>\n",
       "      <td>16.99</td>\n",
       "      <td>1.01</td>\n",
       "    </tr>\n",
       "    <tr>\n",
       "      <th>1</th>\n",
       "      <td>10.34</td>\n",
       "      <td>1.66</td>\n",
       "    </tr>\n",
       "    <tr>\n",
       "      <th>2</th>\n",
       "      <td>21.01</td>\n",
       "      <td>3.50</td>\n",
       "    </tr>\n",
       "    <tr>\n",
       "      <th>3</th>\n",
       "      <td>23.68</td>\n",
       "      <td>3.31</td>\n",
       "    </tr>\n",
       "    <tr>\n",
       "      <th>4</th>\n",
       "      <td>24.59</td>\n",
       "      <td>3.61</td>\n",
       "    </tr>\n",
       "    <tr>\n",
       "      <th>...</th>\n",
       "      <td>...</td>\n",
       "      <td>...</td>\n",
       "    </tr>\n",
       "    <tr>\n",
       "      <th>239</th>\n",
       "      <td>29.03</td>\n",
       "      <td>5.92</td>\n",
       "    </tr>\n",
       "    <tr>\n",
       "      <th>240</th>\n",
       "      <td>27.18</td>\n",
       "      <td>2.00</td>\n",
       "    </tr>\n",
       "    <tr>\n",
       "      <th>241</th>\n",
       "      <td>22.67</td>\n",
       "      <td>2.00</td>\n",
       "    </tr>\n",
       "    <tr>\n",
       "      <th>242</th>\n",
       "      <td>17.82</td>\n",
       "      <td>1.75</td>\n",
       "    </tr>\n",
       "    <tr>\n",
       "      <th>243</th>\n",
       "      <td>18.78</td>\n",
       "      <td>3.00</td>\n",
       "    </tr>\n",
       "  </tbody>\n",
       "</table>\n",
       "<p>244 rows × 2 columns</p>\n",
       "</div>"
      ],
      "text/plain": [
       "     total_bill   tip\n",
       "0         16.99  1.01\n",
       "1         10.34  1.66\n",
       "2         21.01  3.50\n",
       "3         23.68  3.31\n",
       "4         24.59  3.61\n",
       "..          ...   ...\n",
       "239       29.03  5.92\n",
       "240       27.18  2.00\n",
       "241       22.67  2.00\n",
       "242       17.82  1.75\n",
       "243       18.78  3.00\n",
       "\n",
       "[244 rows x 2 columns]"
      ]
     },
     "execution_count": 37,
     "metadata": {},
     "output_type": "execute_result"
    }
   ],
   "source": [
    "df[['total_bill','tip']]\n"
   ]
  },
  {
   "cell_type": "code",
   "execution_count": 38,
   "id": "e5a91db6-4f3c-41a1-aa36-b13bbcda0a68",
   "metadata": {},
   "outputs": [
    {
     "data": {
      "text/plain": [
       "19.78594262295082"
      ]
     },
     "execution_count": 38,
     "metadata": {},
     "output_type": "execute_result"
    }
   ],
   "source": [
    "#i# write a Python function that calculates their skewness.\n",
    "\n",
    "X=np.mean(df['total_bill'])\n",
    "X"
   ]
  },
  {
   "cell_type": "code",
   "execution_count": 40,
   "id": "709c6516-44e7-4a28-80b6-8b7165987838",
   "metadata": {},
   "outputs": [
    {
     "data": {
      "text/plain": [
       "2.99827868852459"
      ]
     },
     "execution_count": 40,
     "metadata": {},
     "output_type": "execute_result"
    }
   ],
   "source": [
    "Y=np.mean(df['tip'])\n",
    "Y"
   ]
  },
  {
   "cell_type": "code",
   "execution_count": 41,
   "id": "e71bed21-2d10-475a-9174-bbeb28f74f36",
   "metadata": {},
   "outputs": [
    {
     "data": {
      "text/plain": [
       "17.795"
      ]
     },
     "execution_count": 41,
     "metadata": {},
     "output_type": "execute_result"
    }
   ],
   "source": [
    "import numpy as np\n",
    "A=np.median(df['total_bill'])\n",
    "A"
   ]
  },
  {
   "cell_type": "code",
   "execution_count": 42,
   "id": "4d397652-aa04-4cb8-a42d-2f43581c57d5",
   "metadata": {},
   "outputs": [
    {
     "data": {
      "text/plain": [
       "2.9"
      ]
     },
     "execution_count": 42,
     "metadata": {},
     "output_type": "execute_result"
    }
   ],
   "source": [
    "B=np.median(df['tip'])\n",
    "B"
   ]
  },
  {
   "cell_type": "code",
   "execution_count": 43,
   "id": "80a7e498-cfd5-49be-a70b-610eaba3dde6",
   "metadata": {},
   "outputs": [
    {
     "data": {
      "text/plain": [
       "11.392110655737705"
      ]
     },
     "execution_count": 43,
     "metadata": {},
     "output_type": "execute_result"
    }
   ],
   "source": [
    "Z=(X+Y)/2\n",
    "Z"
   ]
  },
  {
   "cell_type": "code",
   "execution_count": 44,
   "id": "e36b838d-146a-45e5-aea6-ab4ed137d38e",
   "metadata": {},
   "outputs": [
    {
     "data": {
      "text/plain": [
       "10.3475"
      ]
     },
     "execution_count": 44,
     "metadata": {},
     "output_type": "execute_result"
    }
   ],
   "source": [
    "C=(A+B)/2\n",
    "C"
   ]
  },
  {
   "cell_type": "code",
   "execution_count": 45,
   "id": "a23f84c7-e0d8-4072-a288-d0a4241db6b2",
   "metadata": {},
   "outputs": [
    {
     "data": {
      "text/plain": [
       "8.88415057777113"
      ]
     },
     "execution_count": 45,
     "metadata": {},
     "output_type": "execute_result"
    }
   ],
   "source": [
    "L=np.std(df['total_bill'])\n",
    "L"
   ]
  },
  {
   "cell_type": "code",
   "execution_count": 47,
   "id": "39f1ed1a-0f20-4318-a95a-06199ab46b93",
   "metadata": {},
   "outputs": [
    {
     "data": {
      "text/plain": [
       "1.3807999538298958"
      ]
     },
     "execution_count": 47,
     "metadata": {},
     "output_type": "execute_result"
    }
   ],
   "source": [
    "M=np.std(df['tip'])\n",
    "M"
   ]
  },
  {
   "cell_type": "code",
   "execution_count": 48,
   "id": "ab9d2c90-5f2e-4fe7-99e6-07a7c2618056",
   "metadata": {},
   "outputs": [
    {
     "data": {
      "text/plain": [
       "10.264950531601027"
      ]
     },
     "execution_count": 48,
     "metadata": {},
     "output_type": "execute_result"
    }
   ],
   "source": [
    "K=(L+M)\n",
    "K"
   ]
  },
  {
   "cell_type": "code",
   "execution_count": 49,
   "id": "baaf0a9d-8256-4938-9aa5-03774aec1bf2",
   "metadata": {},
   "outputs": [
    {
     "data": {
      "text/plain": [
       "0.3052944052253829"
      ]
     },
     "execution_count": 49,
     "metadata": {},
     "output_type": "execute_result"
    }
   ],
   "source": [
    "skewness = (3 * (Z - C)) / K\n",
    "skewness"
   ]
  },
  {
   "cell_type": "code",
   "execution_count": 50,
   "id": "e1270dbf-e895-44d8-9b44-c42c5ead025e",
   "metadata": {},
   "outputs": [
    {
     "name": "stdout",
     "output_type": "stream",
     "text": [
      "1.4564266884221506\n"
     ]
    }
   ],
   "source": [
    "#ii#reate a program that determines whether the columns exhibit positive skewness, negative skewness, or is\n",
    "#approximately symmetric.\n",
    "\n",
    "\n",
    "from scipy.stats import skew\n",
    "print(skew(df['tip'], axis=0, bias=True))"
   ]
  },
  {
   "cell_type": "code",
   "execution_count": 51,
   "id": "311bf841-5ffd-45fd-8556-7aa6d15cf7dc",
   "metadata": {},
   "outputs": [
    {
     "name": "stdout",
     "output_type": "stream",
     "text": [
      "1.1262346334818638\n"
     ]
    }
   ],
   "source": [
    "print(skew(df['total_bill'], axis=0, bias=True))\n",
    "#it means the distribution is positivily skew"
   ]
  },
  {
   "cell_type": "code",
   "execution_count": 52,
   "id": "57c9b00e-8ddb-41fa-bec8-59dda23061ef",
   "metadata": {},
   "outputs": [
    {
     "name": "stdout",
     "output_type": "stream",
     "text": [
      "8.323501629224854\n"
     ]
    }
   ],
   "source": [
    "#iii#wrtie a function that calculates the covariance between two columns.\n",
    "\n",
    "print(df['total_bill'].cov(df['tip']))"
   ]
  },
  {
   "cell_type": "code",
   "execution_count": 53,
   "id": "3208e0c5-0828-492c-90a8-9ad768836b52",
   "metadata": {},
   "outputs": [
    {
     "name": "stdout",
     "output_type": "stream",
     "text": [
      "0.6757341092113641\n"
     ]
    }
   ],
   "source": [
    "#iv#Implement a Python program that calculates the Pearson correlation coefficient between two columns.\n",
    "\n",
    "\n",
    "\n",
    "\n",
    "print(df['total_bill'].corr(df['tip']))"
   ]
  },
  {
   "cell_type": "code",
   "execution_count": 54,
   "id": "28e746f4-a7dc-46ba-ba29-809711a7772b",
   "metadata": {},
   "outputs": [
    {
     "data": {
      "text/plain": [
       "0.6757341092113641"
      ]
     },
     "execution_count": 54,
     "metadata": {},
     "output_type": "execute_result"
    }
   ],
   "source": [
    "df['total_bill'].corr(df['tip'])"
   ]
  },
  {
   "cell_type": "code",
   "execution_count": 55,
   "id": "29a0315e-474a-4ab8-a116-12d34bf3801d",
   "metadata": {},
   "outputs": [
    {
     "data": {
      "text/plain": [
       "<AxesSubplot: xlabel='total_bill', ylabel='tip'>"
      ]
     },
     "execution_count": 55,
     "metadata": {},
     "output_type": "execute_result"
    },
    {
     "data": {
      "image/png": "[encoded data removed]",
      "text/plain": [
       "<Figure size 640x480 with 1 Axes>"
      ]
     },
     "metadata": {},
     "output_type": "display_data"
    }
   ],
   "source": [
    "#v#rite a script to visualize the correlation between two specific columns in a Pandas DataFrame using scatter plots.\n",
    "\n",
    "df.plot.scatter(x='total_bill',\n",
    "                      y='tip',\n",
    "                      c='DarkBlue')\n"
   ]
  },
  {
   "cell_type": "code",
   "execution_count": 56,
   "id": "4405621c-06c6-4b76-b800-8c4dd96f9838",
   "metadata": {},
   "outputs": [
    {
     "data": {
      "text/plain": [
       "array([ 52.81584862,  64.53498321,  -9.15076881,  25.48772588,\n",
       "       -33.32227402, -54.57184162, -45.36093495, -10.21489292,\n",
       "        52.09582604, -25.98709128])"
      ]
     },
     "execution_count": 56,
     "metadata": {},
     "output_type": "execute_result"
    }
   ],
   "source": [
    "#8#write a Python function to calculate the probability density function (PDF) of a continuous random\n",
    "#variable for a given normal distribution.\n",
    "\n",
    "\n",
    "ND=np.random.normal(10,30,10)\n",
    "ND"
   ]
  },
  {
   "cell_type": "code",
   "execution_count": 57,
   "id": "d8a0bd11-aaff-4d58-856d-308894965678",
   "metadata": {},
   "outputs": [
    {
     "data": {
      "text/plain": [
       "1.6326580151341843"
      ]
     },
     "execution_count": 57,
     "metadata": {},
     "output_type": "execute_result"
    }
   ],
   "source": [
    "from scipy.stats import norm\n",
    "mean=np.mean(ND)\n",
    "std=np.std(ND)\n",
    "mean"
   ]
  },
  {
   "cell_type": "code",
   "execution_count": 58,
   "id": "5d13d598-c1f7-4be8-bb27-325f4705d4f2",
   "metadata": {},
   "outputs": [
    {
     "data": {
      "text/plain": [
       "41.59411646673182"
      ]
     },
     "execution_count": 58,
     "metadata": {},
     "output_type": "execute_result"
    }
   ],
   "source": [
    "std"
   ]
  },
  {
   "cell_type": "code",
   "execution_count": 59,
   "id": "bd272d9b-0f32-4196-8fe0-8c75b67a8996",
   "metadata": {},
   "outputs": [
    {
     "name": "stdout",
     "output_type": "stream",
     "text": [
      "[0.0044985  0.00305674 0.00927434 0.00813679 0.00673783 0.00384935\n",
      " 0.00506634 0.00921002 0.00459467 0.00769361]\n"
     ]
    }
   ],
   "source": [
    "print(norm.pdf(ND, mean, std))"
   ]
  },
  {
   "cell_type": "code",
   "execution_count": 60,
   "id": "877dab78-0b53-4d9c-8e17-69b595d2392c",
   "metadata": {},
   "outputs": [
    {
     "data": {
      "text/plain": [
       "array([[1.65902463, 6.69392139, 0.21071963],\n",
       "       [0.53322226, 1.35313501, 0.24812833]])"
      ]
     },
     "execution_count": 60,
     "metadata": {},
     "output_type": "execute_result"
    }
   ],
   "source": [
    "from numpy import random\n",
    "x = random.exponential(scale=2, size=(2, 3))\n",
    "x"
   ]
  },
  {
   "cell_type": "code",
   "execution_count": 61,
   "id": "30eead2b-2724-4567-a04a-ff6e777f96c1",
   "metadata": {},
   "outputs": [
    {
     "data": {
      "text/plain": [
       "1.7830252094192192"
      ]
     },
     "execution_count": 61,
     "metadata": {},
     "output_type": "execute_result"
    }
   ],
   "source": [
    "#9#reate a program to calculate the cumulative distribution 6unction (CDF) o6 exponential distribution.\n",
    "\n",
    "\n",
    "mean=np.mean(x)\n",
    "std=np.std(x)\n",
    "mean"
   ]
  },
  {
   "cell_type": "code",
   "execution_count": 63,
   "id": "9c1a4278-34e8-48df-8052-20b5750081d4",
   "metadata": {},
   "outputs": [
    {
     "data": {
      "text/plain": [
       "2.262268173282166"
      ]
     },
     "execution_count": 63,
     "metadata": {},
     "output_type": "execute_result"
    }
   ],
   "source": [
    "std"
   ]
  },
  {
   "cell_type": "code",
   "execution_count": 64,
   "id": "05ad97ac-8c23-4390-9019-b311b04f101f",
   "metadata": {},
   "outputs": [
    {
     "name": "stdout",
     "output_type": "stream",
     "text": [
      "[[0.17608144 0.01671483 0.1385079 ]\n",
      " [0.15138786 0.17319079 0.14008975]]\n"
     ]
    }
   ],
   "source": [
    "print(norm.pdf(x, mean, std))"
   ]
  },
  {
   "cell_type": "code",
   "execution_count": 65,
   "id": "563ce0e0-b55f-42ed-92f1-95dc6c202a1b",
   "metadata": {},
   "outputs": [
    {
     "data": {
      "text/plain": [
       "array([ 0,  1,  2,  3,  4,  5,  6,  7,  8,  9, 10])"
      ]
     },
     "execution_count": 65,
     "metadata": {},
     "output_type": "execute_result"
    }
   ],
   "source": [
    "#10#write a Python function to calculate the probability mass 6unction (PMF) o6 Poisson distribution.\n",
    "\n",
    "\n",
    "lam=2\n",
    "k_values = np.arange(0, 11)\n",
    "k_values"
   ]
  },
  {
   "cell_type": "code",
   "execution_count": 66,
   "id": "55bab14c-b90e-4358-983e-4fd3580b78b6",
   "metadata": {},
   "outputs": [
    {
     "data": {
      "text/plain": [
       "array([1.35335283e-01, 2.70670566e-01, 2.70670566e-01, 1.80447044e-01,\n",
       "       9.02235222e-02, 3.60894089e-02, 1.20298030e-02, 3.43708656e-03,\n",
       "       8.59271640e-04, 1.90949253e-04, 3.81898506e-05])"
      ]
     },
     "execution_count": 66,
     "metadata": {},
     "output_type": "execute_result"
    }
   ],
   "source": [
    "from scipy.stats import poisson\n",
    "pmf_values = poisson.pmf(k_values, lam)\n",
    "pmf_values\n"
   ]
  },
  {
   "cell_type": "code",
   "execution_count": 67,
   "id": "fedcb41e-5541-46e8-ab04-da0bdb7c93ce",
   "metadata": {},
   "outputs": [
    {
     "data": {
      "text/plain": [
       "(-137764.29890424784, 0.0)"
      ]
     },
     "execution_count": 67,
     "metadata": {},
     "output_type": "execute_result"
    }
   ],
   "source": [
    "import numpy as np\n",
    "# 50 purchases out of 1000 visitors\n",
    "\n",
    "old_layout = np.array([1] * 50 + [0] * 950)\n",
    "\n",
    "old_layout\n",
    "from statsmodels.stats.weightstats import ztest as ztest\n",
    "ztest(old_layout, value=950)"
   ]
  },
  {
   "cell_type": "code",
   "execution_count": 68,
   "id": "58dd7c0a-2904-455d-bac4-6fb2a8ccd925",
   "metadata": {},
   "outputs": [
    {
     "data": {
      "text/plain": [
       "(-115197.35520671522, 0.0)"
      ]
     },
     "execution_count": 68,
     "metadata": {},
     "output_type": "execute_result"
    }
   ],
   "source": [
    "# 70 purchases out of 1000 visitors\n",
    "\n",
    "new_layout = np.array([1] * 70 + [0] * 930)\n",
    "new_layout\n",
    "ztest(new_layout, value=930)"
   ]
  },
  {
   "cell_type": "code",
   "execution_count": 69,
   "id": "586fd4c9-c579-4ca9-980d-0954c4f9461b",
   "metadata": {},
   "outputs": [
    {
     "data": {
      "text/plain": [
       "(-1.3600371723457605, 0.17381816101827674)"
      ]
     },
     "execution_count": 69,
     "metadata": {},
     "output_type": "execute_result"
    }
   ],
   "source": [
    "#12# A tutoring service claims that its program improves students' exam scores. A sample oN students who\n",
    "#participated in the program was taken, and their scores beNore and aNter the program were recorded\n",
    "\n",
    "before_program = np.array([75, 80, 85, 70, 90, 78, 92, 88, 82, 87])\n",
    "after_program = np.array([80, 85, 90, 80, 92, 80, 95, 90, 85, 88])\n",
    "from statsmodels.stats.weightstats import ztest as ztest\n",
    "ztest(before_program, after_program, value=0)\n"
   ]
  },
  {
   "cell_type": "code",
   "execution_count": 70,
   "id": "095713de-b4b5-4f86-b235-90a44b8bb216",
   "metadata": {},
   "outputs": [
    {
     "data": {
      "text/html": [
       "<div>\n",
       "<style scoped>\n",
       "    .dataframe tbody tr th:only-of-type {\n",
       "        vertical-align: middle;\n",
       "    }\n",
       "\n",
       "    .dataframe tbody tr th {\n",
       "        vertical-align: top;\n",
       "    }\n",
       "\n",
       "    .dataframe thead th {\n",
       "        text-align: right;\n",
       "    }\n",
       "</style>\n",
       "<table border=\"1\" class=\"dataframe\">\n",
       "  <thead>\n",
       "    <tr style=\"text-align: right;\">\n",
       "      <th></th>\n",
       "      <th>0</th>\n",
       "    </tr>\n",
       "  </thead>\n",
       "  <tbody>\n",
       "    <tr>\n",
       "      <th>80</th>\n",
       "      <td>True</td>\n",
       "    </tr>\n",
       "    <tr>\n",
       "      <th>85</th>\n",
       "      <td>True</td>\n",
       "    </tr>\n",
       "    <tr>\n",
       "      <th>90</th>\n",
       "      <td>True</td>\n",
       "    </tr>\n",
       "    <tr>\n",
       "      <th>80</th>\n",
       "      <td>True</td>\n",
       "    </tr>\n",
       "    <tr>\n",
       "      <th>92</th>\n",
       "      <td>True</td>\n",
       "    </tr>\n",
       "    <tr>\n",
       "      <th>80</th>\n",
       "      <td>True</td>\n",
       "    </tr>\n",
       "    <tr>\n",
       "      <th>95</th>\n",
       "      <td>True</td>\n",
       "    </tr>\n",
       "    <tr>\n",
       "      <th>90</th>\n",
       "      <td>True</td>\n",
       "    </tr>\n",
       "    <tr>\n",
       "      <th>85</th>\n",
       "      <td>True</td>\n",
       "    </tr>\n",
       "    <tr>\n",
       "      <th>88</th>\n",
       "      <td>True</td>\n",
       "    </tr>\n",
       "  </tbody>\n",
       "</table>\n",
       "</div>"
      ],
      "text/plain": [
       "       0\n",
       "80  True\n",
       "85  True\n",
       "90  True\n",
       "80  True\n",
       "92  True\n",
       "80  True\n",
       "95  True\n",
       "90  True\n",
       "85  True\n",
       "88  True"
      ]
     },
     "execution_count": 70,
     "metadata": {},
     "output_type": "execute_result"
    }
   ],
   "source": [
    "import pandas as pd\n",
    "df = pd.DataFrame(before_program, after_program)\n",
    "df.notnull()"
   ]
  },
  {
   "cell_type": "code",
   "execution_count": 71,
   "id": "54f9b8a8-b92b-4a45-8c7f-225bdb14964d",
   "metadata": {},
   "outputs": [
    {
     "name": "stdout",
     "output_type": "stream",
     "text": [
      "Decision: Reject the null hypothesis at alpha=0.05.\n",
      "Conclusion: There is statistically significant evidence that the average blood pressure before and after treatment with the new drug is different.\n"
     ]
    }
   ],
   "source": [
    "#13#A pharmaceutical company wants to determine iN a new drug is eNNective in reducing blood pressure. They\n",
    "#conduct a study and record blood pressure measurements beNore and aNter administering the drug.\n",
    "\n",
    "\n",
    "\n",
    "from scipy import stats\n",
    "before_drug = np.array([145, 150, 140, 135, 155, 160, 152, 148, 130, 138])\n",
    "\n",
    "after_drug = np.array([130, 140, 132, 128, 145, 148, 138, 136, 125, 130])\n",
    "null_hypothesis = \"The new drug has no effect on blood pressure.\"\n",
    "alternate_hypothesis = \"The new drug has an effect on blood pressure.\"\n",
    "alpha = 0.05\n",
    "t_statistic, p_value = stats.ttest_rel(after_drug, before_drug)\n",
    "m = np.mean(after_drug - before_drug)\n",
    "s = np.std(after_drug - before_drug, ddof=1)\n",
    "n = len(before_drug)\n",
    "t_statistic_manual = m / (s / np.sqrt(n))\n",
    "if p_value <= alpha:\n",
    "    decision = \"Reject\"\n",
    "else:\n",
    "    decision = \"Fail to reject\"\n",
    "if decision == \"Reject\":\n",
    "    conclusion = \"There is statistically significant evidence that the average blood pressure before and after treatment with the new drug is different.\"\n",
    "else:\n",
    "    conclusion = \"There is insufficient evidence to claim a significant difference in average blood pressure before and after treatment with the new drug.\"\n",
    "\n",
    "print(f\"Decision: {decision} the null hypothesis at alpha={alpha}.\")\n",
    "print(\"Conclusion:\", conclusion)"
   ]
  },
  {
   "cell_type": "code",
   "execution_count": 72,
   "id": "d49e5bdb-2696-4157-9828-96205a9e3e1a",
   "metadata": {},
   "outputs": [
    {
     "name": "stdout",
     "output_type": "stream",
     "text": [
      "Decision: Reject the null hypothesis at alpha=0.05.\n",
      "Conclusion: The average response time is less than 5 minutes.\n"
     ]
    }
   ],
   "source": [
    "#14#A customer service department claims that their average response time is less than 5 minutesV A sample\n",
    "#of recent customer interactions was taken, and the response times were recorded.\n",
    "\n",
    "\n",
    "\n",
    "respo3se_times = np.array([4.3, 3.8, 5.1, 4.9, 4.7, 4.2, 5.2, 4.5, 4.6, 4.4])\n",
    "null_hypothesis = \"The average response time is less than 5 minutes.\"\n",
    "alternate_hypothesis = \"The naverage response time is greater than 5 minutes.\"\n",
    "alpha = 0.05\n",
    "\n",
    "m = np.mean(respo3se_times)\n",
    "s = np.std(respo3se_times, ddof=1)\n",
    "n = len(before_drug)\n",
    "t_statistic_manual = m / (s / np.sqrt(n))\n",
    "if p_value <= alpha:\n",
    "    decision = \"Reject\"\n",
    "else:\n",
    "    decision = \"Fail to reject\"\n",
    "if decision == \"Reject\":\n",
    "    conclusion = \"The average response time is less than 5 minutes.\"\n",
    "else:\n",
    "    conclusion = \"The naverage response time is greater than 5 minutes.\"\n",
    "\n",
    "print(f\"Decision: {decision} the null hypothesis at alpha={alpha}.\")\n",
    "print(\"Conclusion:\", conclusion)"
   ]
  },
  {
   "cell_type": "code",
   "execution_count": 73,
   "id": "560a35a5-bdc2-417c-8be2-af25a44246be",
   "metadata": {},
   "outputs": [
    {
     "data": {
      "text/plain": [
       "Ttest_indResult(statistic=-7.298102156175071, pvalue=8.833437608301987e-07)"
      ]
     },
     "execution_count": 73,
     "metadata": {},
     "output_type": "execute_result"
    }
   ],
   "source": [
    "#15#A company is testing two different website layouts to see which one leads to higher click-through ratesV\n",
    "#Write a Python function to perfor: an A/B test analysis, including calculating the t-statistic, degrees of freedom, and p-value\n",
    "layout_a_clicks = [28, 32, 33, 29, 31, 34, 30, 35, 36, 37]\n",
    "\n",
    "layout_b_clicks = [40, 41, 38, 42, 39, 44, 43, 41, 45, 47]\n",
    "import scipy.stats as stats\n",
    "stats.ttest_ind(a=layout_a_clicks, b=layout_b_clicks, equal_var=True)\n",
    "\n"
   ]
  },
  {
   "cell_type": "code",
   "execution_count": 74,
   "id": "2c52fe87-6d36-45a3-b3a8-6ab58a4a9563",
   "metadata": {},
   "outputs": [
    {
     "data": {
      "text/plain": [
       "Ttest_indResult(statistic=4.14048098620866, pvalue=0.0006143398442372505)"
      ]
     },
     "execution_count": 74,
     "metadata": {},
     "output_type": "execute_result"
    }
   ],
   "source": [
    "#16#A phar:aceutical co:pany wants to deter:ine if a new drug is :ore effective than an existing drug in\n",
    "#reducing cholesterol levelsV Create a progra: to analyze the clinical trial data and calculate the t￾statistic and p-value for the treat:ent effect.\n",
    "existi3g_drug_levels = [180, 182, 175, 185, 178, 176, 172, 184, 179, 183]\n",
    "New_drug_levels = [170, 172, 165, 168, 175, 173, 170, 178, 172, 176]\n",
    "import scipy.stats as stats\n",
    "stats.ttest_ind(a=existi3g_drug_levels, b=New_drug_levels, equal_var=True)\n",
    "\n",
    "\n"
   ]
  },
  {
   "cell_type": "code",
   "execution_count": 76,
   "id": "e215e9b1-e64d-4efc-9ef0-6ab385d16d65",
   "metadata": {},
   "outputs": [
    {
     "data": {
      "text/plain": [
       "Ttest_indResult(statistic=-4.080355128162116, pvalue=0.0007022570725706455)"
      ]
     },
     "execution_count": 76,
     "metadata": {},
     "output_type": "execute_result"
    }
   ],
   "source": [
    "#17#A school district introduces an educational intervention progra: to i:prove :ath scoresV Write a Python\n",
    "#function to analyze pre- and post-intervention test scores, calculating the t-statistic and p-value to\n",
    "#deter:ine if the intervention had a significant i:pact.\n",
    "pre_i3terve3tio3_scores = [80, 85, 90, 75, 88, 82, 92, 78, 85, 87]\n",
    "post_i3terve3tio3_scores = [90, 92, 88, 92, 95, 91, 96, 93, 89, 93]\n",
    "import scipy.stats as stats\n",
    "stats.ttest_ind(a=pre_i3terve3tio3_scores, b=post_i3terve3tio3_scores, equal_var=True)\n"
   ]
  },
  {
   "cell_type": "code",
   "execution_count": 77,
   "id": "0e1025ac-c0c9-4f27-9cf2-d73fe2195fc6",
   "metadata": {},
   "outputs": [
    {
     "data": {
      "text/plain": [
       "Ttest_indResult(statistic=0.06114208969631383, pvalue=0.9515665020676465)"
      ]
     },
     "execution_count": 77,
     "metadata": {},
     "output_type": "execute_result"
    }
   ],
   "source": [
    "#18#An HR department wants to investigate i@ there's a gender-based salary gap within the company. Develop\n",
    "#a program to analyze salary data, calculate the t-statistic, and determine i@ there's a statistically\n",
    "#signi@icant di@@erence between the average salaries o@ male and @emale employees.\n",
    "\n",
    "np.random.seed(0) # For reproducibility\n",
    "male_salaries = np.random.normal(loc=50000, scale=10000, size=20)\n",
    "female_salaries = np.random.normal(loc=55000, scale=9000, size=20)\n",
    "import scipy.stats as stats\n",
    "stats.ttest_ind(a=male_salaries, b=female_salaries, equal_var=True)"
   ]
  },
  {
   "cell_type": "code",
   "execution_count": 78,
   "id": "267ec800-f56e-4607-83a9-3019ac0c2e75",
   "metadata": {},
   "outputs": [
    {
     "data": {
      "text/plain": [
       "Ttest_indResult(statistic=11.325830417646698, pvalue=3.6824250702873965e-15)"
      ]
     },
     "execution_count": 78,
     "metadata": {},
     "output_type": "execute_result"
    }
   ],
   "source": [
    "#19# A manu@acturer produces two di@@erent versions o@ a product and wants to compare their quality scores.\n",
    "#Create a Python @unction to analyze quality assessment data, calculate the t-statistic, and decide\n",
    "#whether there's a signi@icant di@@erence in quality between the two versions.\n",
    "version1_scores = [85, 88, 82, 89, 87, 84, 90, 88, 85, 86, 91, 83, 87, 84, 89, 86, 84, 88, 85, 86, 89, 90, 87, 88, 85]\n",
    "version2_scores = [80, 78, 83, 81, 79, 82, 76, 80, 78, 81, 77, 82, 80, 79, 82, 79, 80, 81, 79, 82, 79, 78, 80, 81, 82]\n",
    "import scipy.stats as stats\n",
    "stats.ttest_ind(a=version1_scores, b=version2_scores, equal_var=True)"
   ]
  },
  {
   "cell_type": "code",
   "execution_count": 79,
   "id": "a3c219e8-4da6-4073-beeb-3d4ddd2c51f5",
   "metadata": {},
   "outputs": [
    {
     "data": {
      "text/plain": [
       "Ttest_indResult(statistic=5.480077554195743, pvalue=8.895290509945655e-07)"
      ]
     },
     "execution_count": 79,
     "metadata": {},
     "output_type": "execute_result"
    }
   ],
   "source": [
    "#20#A restaurant chain collects customer satis@action scores @or two di@@erent branches. Write a program to\n",
    "#analyze the scores, calculate the t-statistic, and determine i@ there's a statistically signi@icant di@@erence in customer satis@action between the branches.\n",
    "\n",
    "branch_a_scores = [4, 5, 3, 4, 5, 4, 5, 3, 4, 4, 5, 4, 4, 3, 4, 5, 5, 4, 3, 4, 5, 4, 3, 5, 4, 4, 5, 3, 4, 5, 4]\n",
    "branch_b_scores = [3, 4, 2, 3, 4, 3, 4, 2, 3, 3, 4, 3, 3, 2, 3, 4, 4, 3, 2, 3, 4, 3, 2, 4, 3, 3, 4, 2, 3, 4, 3]\n",
    "import scipy.stats as stats\n",
    "stats.ttest_ind(a=branch_a_scores, b=branch_b_scores, equal_var=True)"
   ]
  },
  {
   "cell_type": "code",
   "execution_count": 85,
   "id": "9db14b85-c647-45c1-a5d7-dd6ffb0af721",
   "metadata": {},
   "outputs": [
    {
     "name": "stdout",
     "output_type": "stream",
     "text": [
      "p value is 0.00018609719479882557\n",
      "Dependent (reject H0)\n"
     ]
    }
   ],
   "source": [
    "#21#RV? A political analyst wants to determine i@ there is a signi@icant association between age groups and voter\n",
    "#pre@erences FCandidate A or Candidate B). They collect data @rom a sample o@ 500 voters and classi@y\n",
    "#them into di@@erent age groups and candidate pre@erences. Per@orm a Chi-Square test to determine i@ there is a signi@icant association between age groups and voter pre@erences.\n",
    "\n",
    "np.random.seed(0)\n",
    "age_groups = np.random.choice([ '18-30' , '31+50' , '51+', '51+'], size=30)\n",
    "voter_preferences = np.random.choice(['Candidate A', 'Candidate B'], size=30)\n",
    "from scipy.stats import chi2_contingency\n",
    "stat, p, dof, expected = chi2_contingency(data)\n",
    "alpha = 0.05\n",
    "print(\"p value is \" + str(p))\n",
    "if p <= alpha:\n",
    "    print('Dependent (reject H0)')\n",
    "else:\n",
    "    print('Independent (H0 holds true)')"
   ]
  },
  {
   "cell_type": "code",
   "execution_count": 82,
   "id": "185abde7-f824-4d27-bec2-b8bad152ad5a",
   "metadata": {},
   "outputs": [
    {
     "name": "stdout",
     "output_type": "stream",
     "text": [
      "p value is 0.00010349448486004387\n",
      "Dependent (reject H0)\n"
     ]
    }
   ],
   "source": [
    "#22#A company conducted a customer satisfaction survey to determine if there is a significant relationship\n",
    "#between product satisfaction levels (Satisfied, Neutral, Dissatisfied) and the region where customers are\n",
    "#located (East, West, North, South). The survey data is summarized in a contingency table. Conduct a Chi￾\n",
    "#Square test to determine if there is a significant relationship between product satisfaction levels and customer regions.\n",
    "#Sample data: Product satisfaction levels (rows) vs. Customer regions (columns)\n",
    "data = np.array([[50, 30, 40, 20], [30, 40, 30, 50], [20, 30, 40, 30]])\n",
    "data\n",
    "from scipy.stats import chi2_contingency\n",
    "stat, p, dof, expected = chi2_contingency(data)\n",
    "alpha = 0.05\n",
    "print(\"p value is \" + str(p))\n",
    "if p <= alpha:\n",
    "    print('Dependent (reject H0)')\n",
    "else:\n",
    "    print('Independent (H0 holds true)')\n",
    "\n"
   ]
  },
  {
   "cell_type": "code",
   "execution_count": 83,
   "id": "5c48f874-cb45-4dac-95de-c71839a548d5",
   "metadata": {},
   "outputs": [
    {
     "name": "stdout",
     "output_type": "stream",
     "text": [
      "p value is 0.00018609719479882557\n",
      "Dependent (reject H0)\n"
     ]
    }
   ],
   "source": [
    "#23# A company implemented an employee training program to improve job performance (Effective, Neutral,\n",
    "#Ineffective). After the training, they collected data from a sample of employees and classified them based\n",
    "#on their job performance before and after the training. Perform a Chi-Square test to determine if there is a\n",
    "#significant difference between job performance levels before and after the training.\n",
    "# Sample data: Job performance levels before (rows) and after (columns) training\n",
    "data = np.array([[50, 30, 20], [30, 40, 30], [20, 30, 40]])\n",
    "from scipy.stats import chi2_contingency\n",
    "stat, p, dof, expected = chi2_contingency(data)\n",
    "alpha = 0.05\n",
    "print(\"p value is \" + str(p))\n",
    "if p <= alpha:\n",
    "    print('Dependent (reject H0)')\n",
    "else:\n",
    "    print('Independent (H0 holds true)')"
   ]
  },
  {
   "cell_type": "code",
   "execution_count": 84,
   "id": "56ecb091-0b9c-4ffc-9c72-5d5ae7438082",
   "metadata": {},
   "outputs": [
    {
     "data": {
      "text/plain": [
       "F_onewayResult(statistic=27.03556231003039, pvalue=3.5786328857349003e-07)"
      ]
     },
     "execution_count": 84,
     "metadata": {},
     "output_type": "execute_result"
    }
   ],
   "source": [
    "#24# A company produces three different versions of a product: Standard, Premium, and Deluxe. The\n",
    "#company wants to determine if there is a significant difference in customer satisfaction scores among the\n",
    "#three product versions. They conducted a survey and collected customer satisfaction scores for each\n",
    "#version from a random sample of customers. Perform an ANOVA test to determine if there is a significant\n",
    "#difference in customer satisfaction scores.\n",
    "standard_scores = [80, 85, 90, 78, 88, 82, 92, 78, 85, 87]\n",
    "premium_scores = [90, 92, 88, 92, 95, 91, 96, 93, 89, 93]\n",
    "deluxe_scores = [95, 98, 92, 97, 96, 94, 98, 97, 92, 99]\n",
    "from scipy.stats import f_oneway\n",
    "f_oneway(standard_scores, premium_scores, deluxe_scores)"
   ]
  },
  {
   "cell_type": "code",
   "execution_count": null,
   "id": "9a136b5b-9c31-416d-8c8f-1b2221a2cf52",
   "metadata": {},
   "outputs": [],
   "source": []
  }
 ],
 "metadata": {
  "kernelspec": {
   "display_name": "Python 3 (ipykernel)",
   "language": "python",
   "name": "python3"
  },
  "language_info": {
   "codemirror_mode": {
    "name": "ipython",
    "version": 3
   },
   "file_extension": ".py",
   "mimetype": "text/x-python",
   "name": "python",
   "nbconvert_exporter": "python",
   "pygments_lexer": "ipython3",
   "version": "3.10.8"
  }
 },
 "nbformat": 4,
 "nbformat_minor": 5
}
